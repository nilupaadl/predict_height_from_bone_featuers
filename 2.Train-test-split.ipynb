{
 "cells": [
  {
   "cell_type": "markdown",
   "metadata": {},
   "source": [
    "#### Normalization is not needed since all measurements are the same (lenght of something)\n",
    "#### Cross validation only use to compare models not to build models. Because when doing cross validation, insided K steps we we have many different values for weights. We can't just take the average.\n",
    "#### Scikit learn gives only the R2, the adjusted R2 needed to manually calculate. When adding variables to the model, R2 however is increased, there it need to adjusted\n",
    "#### a data point came to be overfitting and removed\n",
    "#### only data for race = 1 selected\n",
    "#### Normality assumption of the linear regression is satisfied\n",
    "#### Multi colinearity is not a problem, because the covariance structure in the training and test data sets are the same. for example it is clear that the given bone lengths have strong relationship among them becaseu it is of same individuals. This is true for both training and test sets.https://stats.stackexchange.com/questions/361247/multicollinearity-and-predictive-performance\n",
    "#### However this results can only be used to do predictions only, because due to multicolinearity the inference ability is very unstable in the final results. Meaning that with highly corelated predictor variables the coefficients can take infinitely many values and give many models. But every model will predict with same predictive power"
   ]
  },
  {
   "cell_type": "code",
   "execution_count": 1,
   "metadata": {},
   "outputs": [
    {
     "data": {
      "text/html": [
       "<div>\n",
       "<style scoped>\n",
       "    .dataframe tbody tr th:only-of-type {\n",
       "        vertical-align: middle;\n",
       "    }\n",
       "\n",
       "    .dataframe tbody tr th {\n",
       "        vertical-align: top;\n",
       "    }\n",
       "\n",
       "    .dataframe thead th {\n",
       "        text-align: right;\n",
       "    }\n",
       "</style>\n",
       "<table border=\"1\" class=\"dataframe\">\n",
       "  <thead>\n",
       "    <tr style=\"text-align: right;\">\n",
       "      <th></th>\n",
       "      <th>sex</th>\n",
       "      <th>height</th>\n",
       "      <th>FA</th>\n",
       "      <th>P</th>\n",
       "      <th>F</th>\n",
       "      <th>age</th>\n",
       "      <th>district</th>\n",
       "      <th>race</th>\n",
       "    </tr>\n",
       "  </thead>\n",
       "  <tbody>\n",
       "    <tr>\n",
       "      <th>0</th>\n",
       "      <td>0</td>\n",
       "      <td>174.5</td>\n",
       "      <td>28.9</td>\n",
       "      <td>19.3</td>\n",
       "      <td>26.4</td>\n",
       "      <td>21</td>\n",
       "      <td>colombo</td>\n",
       "      <td>1</td>\n",
       "    </tr>\n",
       "    <tr>\n",
       "      <th>1</th>\n",
       "      <td>0</td>\n",
       "      <td>170.1</td>\n",
       "      <td>28.8</td>\n",
       "      <td>17.8</td>\n",
       "      <td>24.3</td>\n",
       "      <td>20</td>\n",
       "      <td>kurunagala</td>\n",
       "      <td>1</td>\n",
       "    </tr>\n",
       "    <tr>\n",
       "      <th>2</th>\n",
       "      <td>0</td>\n",
       "      <td>166.6</td>\n",
       "      <td>28.8</td>\n",
       "      <td>18.1</td>\n",
       "      <td>25.1</td>\n",
       "      <td>21</td>\n",
       "      <td>rathnapura</td>\n",
       "      <td>1</td>\n",
       "    </tr>\n",
       "    <tr>\n",
       "      <th>3</th>\n",
       "      <td>0</td>\n",
       "      <td>165.5</td>\n",
       "      <td>28.5</td>\n",
       "      <td>19.2</td>\n",
       "      <td>25.7</td>\n",
       "      <td>21</td>\n",
       "      <td>colombo</td>\n",
       "      <td>1</td>\n",
       "    </tr>\n",
       "    <tr>\n",
       "      <th>4</th>\n",
       "      <td>0</td>\n",
       "      <td>177.0</td>\n",
       "      <td>30.0</td>\n",
       "      <td>19.8</td>\n",
       "      <td>27.0</td>\n",
       "      <td>20</td>\n",
       "      <td>galle</td>\n",
       "      <td>1</td>\n",
       "    </tr>\n",
       "  </tbody>\n",
       "</table>\n",
       "</div>"
      ],
      "text/plain": [
       "   sex  height    FA     P     F  age    district  race\n",
       "0    0   174.5  28.9  19.3  26.4   21     colombo     1\n",
       "1    0   170.1  28.8  17.8  24.3   20  kurunagala     1\n",
       "2    0   166.6  28.8  18.1  25.1   21  rathnapura     1\n",
       "3    0   165.5  28.5  19.2  25.7   21     colombo     1\n",
       "4    0   177.0  30.0  19.8  27.0   20       galle     1"
      ]
     },
     "execution_count": 1,
     "metadata": {},
     "output_type": "execute_result"
    }
   ],
   "source": [
    "import numpy as np\n",
    "from pylab import *\n",
    "import random\n",
    "import sklearn\n",
    "import matplotlib.pyplot as plt\n",
    "from sklearn.model_selection import train_test_split as tts\n",
    "from sklearn import preprocessing as pr\n",
    "from scipy import stats as st\n",
    "import matplotlib.pyplot as plt\n",
    "import pandas as pd\n",
    "from sklearn import linear_model\n",
    "from sklearn.model_selection import KFold\n",
    "from sklearn.model_selection import cross_val_score\n",
    "\n",
    "def adjusted_r2(R2,sample_size,independent_variables):\n",
    "    n = sample_size\n",
    "    p = independent_variables\n",
    "    return (1-(1-R2)*(n-1)/(n-p-1))\n",
    "\n",
    "data = pd.read_csv('data.csv')\n",
    "data.head()"
   ]
  },
  {
   "cell_type": "code",
   "execution_count": 2,
   "metadata": {},
   "outputs": [],
   "source": [
    "data = data[(data['race']==1)&(data['F']<70)]\n",
    "df = data[['F','FA','P','sex','height']]"
   ]
  },
  {
   "cell_type": "code",
   "execution_count": 3,
   "metadata": {},
   "outputs": [
    {
     "data": {
      "text/html": [
       "<div>\n",
       "<style scoped>\n",
       "    .dataframe tbody tr th:only-of-type {\n",
       "        vertical-align: middle;\n",
       "    }\n",
       "\n",
       "    .dataframe tbody tr th {\n",
       "        vertical-align: top;\n",
       "    }\n",
       "\n",
       "    .dataframe thead th {\n",
       "        text-align: right;\n",
       "    }\n",
       "</style>\n",
       "<table border=\"1\" class=\"dataframe\">\n",
       "  <thead>\n",
       "    <tr style=\"text-align: right;\">\n",
       "      <th></th>\n",
       "      <th>F</th>\n",
       "      <th>FA</th>\n",
       "      <th>P</th>\n",
       "      <th>sex</th>\n",
       "      <th>height</th>\n",
       "    </tr>\n",
       "  </thead>\n",
       "  <tbody>\n",
       "    <tr>\n",
       "      <th>0</th>\n",
       "      <td>26.4</td>\n",
       "      <td>28.9</td>\n",
       "      <td>19.3</td>\n",
       "      <td>0</td>\n",
       "      <td>174.5</td>\n",
       "    </tr>\n",
       "    <tr>\n",
       "      <th>1</th>\n",
       "      <td>24.3</td>\n",
       "      <td>28.8</td>\n",
       "      <td>17.8</td>\n",
       "      <td>0</td>\n",
       "      <td>170.1</td>\n",
       "    </tr>\n",
       "    <tr>\n",
       "      <th>2</th>\n",
       "      <td>25.1</td>\n",
       "      <td>28.8</td>\n",
       "      <td>18.1</td>\n",
       "      <td>0</td>\n",
       "      <td>166.6</td>\n",
       "    </tr>\n",
       "    <tr>\n",
       "      <th>3</th>\n",
       "      <td>25.7</td>\n",
       "      <td>28.5</td>\n",
       "      <td>19.2</td>\n",
       "      <td>0</td>\n",
       "      <td>165.5</td>\n",
       "    </tr>\n",
       "    <tr>\n",
       "      <th>4</th>\n",
       "      <td>27.0</td>\n",
       "      <td>30.0</td>\n",
       "      <td>19.8</td>\n",
       "      <td>0</td>\n",
       "      <td>177.0</td>\n",
       "    </tr>\n",
       "  </tbody>\n",
       "</table>\n",
       "</div>"
      ],
      "text/plain": [
       "      F    FA     P  sex  height\n",
       "0  26.4  28.9  19.3    0   174.5\n",
       "1  24.3  28.8  17.8    0   170.1\n",
       "2  25.1  28.8  18.1    0   166.6\n",
       "3  25.7  28.5  19.2    0   165.5\n",
       "4  27.0  30.0  19.8    0   177.0"
      ]
     },
     "execution_count": 3,
     "metadata": {},
     "output_type": "execute_result"
    }
   ],
   "source": [
    "df.head()"
   ]
  },
  {
   "cell_type": "code",
   "execution_count": 18,
   "metadata": {},
   "outputs": [
    {
     "name": "stdout",
     "output_type": "stream",
     "text": [
      "[ 4.77441787 -4.96993196] 80.69228875873533\n",
      "Train Adj. R2 =  0.7372883556727374\n",
      "Test Adj. R2 =  0.8106873125307337\n"
     ]
    }
   ],
   "source": [
    "X = df[['P','sex']]\n",
    "y = df['height']\n",
    "\n",
    "X_train, X_test, y_train, y_test = tts(X, y, test_size=0.20, random_state=42)\n",
    "sample_size = len(X_train)\n",
    "independent_variables = 1\n",
    "#training the model\n",
    "model = linear_model.LinearRegression(normalize=True)\n",
    "model.fit(X_train.values, y_train.values)\n",
    "fit = model.predict(X_train.values)\n",
    "print(model.coef_,model.intercept_)\n",
    "\n",
    "#plt.scatter(X.values.reshape(-1,1), y.values.reshape(-1,1))\n",
    "#plt.plot(X.values.reshape(-1,1), fit, c='r')\n",
    "#plt.show()\n",
    "r2 = sklearn.metrics.r2_score(y_train.values, fit)\n",
    "r2 = adjusted_r2(r2,sample_size,independent_variables)\n",
    "print(\"Train Adj. R2 = \",r2)\n",
    "\n",
    "#Test model\n",
    "fit = model.predict(X_test.values)\n",
    "r2 = sklearn.metrics.r2_score(y_test.values, fit)\n",
    "r2 = adjusted_r2(r2,sample_size,independent_variables)\n",
    "print(\"Test Adj. R2 = \",r2)"
   ]
  },
  {
   "cell_type": "code",
   "execution_count": 19,
   "metadata": {},
   "outputs": [
    {
     "name": "stdout",
     "output_type": "stream",
     "text": [
      "[[4.46652283]] [54.03502925]\n",
      "Train Adj. R2 =  0.7071608187314906\n",
      "Test Adj. R2 =  0.8208861369990808\n"
     ]
    }
   ],
   "source": [
    "X = df['F']\n",
    "y = df['height']\n",
    "\n",
    "X_train, X_test, y_train, y_test = tts(X, y, test_size=0.20, random_state=42)\n",
    "sample_size = len(X_train)\n",
    "independent_variables = 1\n",
    "#training the model\n",
    "model = linear_model.LinearRegression(normalize=True)\n",
    "model.fit(X_train.values.reshape(-1,1), y_train.values.reshape(-1,1))\n",
    "fit = model.predict(X_train.values.reshape(-1,1))\n",
    "print(model.coef_,model.intercept_)\n",
    "\n",
    "#plt.scatter(X.values.reshape(-1,1), y.values.reshape(-1,1))\n",
    "#plt.plot(X.values.reshape(-1,1), fit, c='r')\n",
    "#plt.show()\n",
    "r2 = sklearn.metrics.r2_score(y_train.values.reshape(-1,1), fit)\n",
    "r2 = adjusted_r2(r2,sample_size,independent_variables)\n",
    "print(\"Train Adj. R2 = \",r2)\n",
    "\n",
    "#Test model\n",
    "fit = model.predict(X_test.values.reshape(-1,1))\n",
    "r2 = sklearn.metrics.r2_score(y_test.values.reshape(-1,1), fit)\n",
    "r2 = adjusted_r2(r2,sample_size,independent_variables)\n",
    "print(\"Test Adj. R2 = \",r2)"
   ]
  },
  {
   "cell_type": "code",
   "execution_count": 20,
   "metadata": {},
   "outputs": [
    {
     "name": "stdout",
     "output_type": "stream",
     "text": [
      "[[4.31455436]] [45.88299973]\n",
      "Train Adj. R2 =  0.8236091872010981\n",
      "Test Adj. R2 =  0.8995340469709693\n"
     ]
    }
   ],
   "source": [
    "X = df['FA']\n",
    "y = df['height']\n",
    "\n",
    "X_train, X_test, y_train, y_test = tts(X, y, test_size=0.20, random_state=42)\n",
    "sample_size = len(X_train)\n",
    "independent_variables = 1\n",
    "#training the model\n",
    "model = linear_model.LinearRegression(normalize=True)\n",
    "model.fit(X_train.values.reshape(-1,1), y_train.values.reshape(-1,1))\n",
    "fit = model.predict(X_train.values.reshape(-1,1))\n",
    "print(model.coef_,model.intercept_)\n",
    "\n",
    "#plt.scatter(X.values.reshape(-1,1), y.values.reshape(-1,1))\n",
    "#plt.plot(X.values.reshape(-1,1), fit, c='r')\n",
    "#plt.show()\n",
    "r2 = sklearn.metrics.r2_score(y_train.values.reshape(-1,1), fit)\n",
    "r2 = adjusted_r2(r2,sample_size,independent_variables)\n",
    "print(\"Train Adj. R2 = \",r2)\n",
    "\n",
    "#Test model\n",
    "fit = model.predict(X_test.values.reshape(-1,1))\n",
    "r2 = sklearn.metrics.r2_score(y_test.values.reshape(-1,1), fit)\n",
    "r2 = adjusted_r2(r2,sample_size,independent_variables)\n",
    "print(\"Test Adj. R2 = \",r2)"
   ]
  },
  {
   "cell_type": "code",
   "execution_count": 21,
   "metadata": {},
   "outputs": [
    {
     "name": "stdout",
     "output_type": "stream",
     "text": [
      "[[6.08820327]] [56.26640096]\n",
      "Train Adj. R2 =  0.5124736222512789\n",
      "Test Adj. R2 =  0.3604279963262287\n"
     ]
    }
   ],
   "source": [
    "#for sex = 0\n",
    "male = df.query(\"sex == 0\")\n",
    "\n",
    "X = male['P']\n",
    "y = male['height']\n",
    "\n",
    "X_train, X_test, y_train, y_test = tts(X, y, test_size=0.20, random_state=42)\n",
    "sample_size = len(X_train)\n",
    "independent_variables = 1\n",
    "#training the model\n",
    "model = linear_model.LinearRegression(normalize=True)\n",
    "model.fit(X_train.values.reshape(-1,1), y_train.values.reshape(-1,1))\n",
    "fit = model.predict(X_train.values.reshape(-1,1))\n",
    "print(model.coef_,model.intercept_)\n",
    "\n",
    "#plt.scatter(X.values.reshape(-1,1), y.values.reshape(-1,1))\n",
    "#plt.plot(X.values.reshape(-1,1), fit, c='r')\n",
    "#plt.show()\n",
    "r2 = sklearn.metrics.r2_score(y_train.values.reshape(-1,1), fit)\n",
    "r2 = adjusted_r2(r2,sample_size,independent_variables)\n",
    "print(\"Train Adj. R2 = \",r2)\n",
    "\n",
    "#Test model\n",
    "fit = model.predict(X_test.values.reshape(-1,1))\n",
    "r2 = sklearn.metrics.r2_score(y_test.values.reshape(-1,1), fit)\n",
    "r2 = adjusted_r2(r2,sample_size,independent_variables)\n",
    "print(\"Test Adj. R2 = \",r2)"
   ]
  },
  {
   "cell_type": "code",
   "execution_count": 22,
   "metadata": {},
   "outputs": [
    {
     "name": "stdout",
     "output_type": "stream",
     "text": [
      "[[3.89730195]] [90.20985859]\n",
      "Train Adj. R2 =  0.4269861655491958\n",
      "Test Adj. R2 =  0.5187155237479963\n"
     ]
    }
   ],
   "source": [
    "#for sex = 1\n",
    "male = df.query(\"sex == 1\")\n",
    "\n",
    "X = male['P']\n",
    "y = male['height']\n",
    "\n",
    "X_train, X_test, y_train, y_test = tts(X, y, test_size=0.20, random_state=42)\n",
    "sample_size = len(X_train)\n",
    "independent_variables = 1\n",
    "#training the model\n",
    "model = linear_model.LinearRegression(normalize=True)\n",
    "model.fit(X_train.values.reshape(-1,1), y_train.values.reshape(-1,1))\n",
    "fit = model.predict(X_train.values.reshape(-1,1))\n",
    "print(model.coef_,model.intercept_)\n",
    "\n",
    "#plt.scatter(X.values.reshape(-1,1), y.values.reshape(-1,1))\n",
    "#plt.plot(X.values.reshape(-1,1), fit, c='r')\n",
    "#plt.show()\n",
    "r2 = sklearn.metrics.r2_score(y_train.values.reshape(-1,1), fit)\n",
    "r2 = adjusted_r2(r2,sample_size,independent_variables)\n",
    "print(\"Train Adj. R2 = \",r2)\n",
    "\n",
    "#Test model\n",
    "fit = model.predict(X_test.values.reshape(-1,1))\n",
    "r2 = sklearn.metrics.r2_score(y_test.values.reshape(-1,1), fit)\n",
    "r2 = adjusted_r2(r2,sample_size,independent_variables)\n",
    "print(\"Test Adj. R2 = \",r2)"
   ]
  },
  {
   "cell_type": "code",
   "execution_count": 23,
   "metadata": {},
   "outputs": [
    {
     "name": "stdout",
     "output_type": "stream",
     "text": [
      "[[4.14947501]] [63.68405595]\n",
      "Train Adj. R2 =  0.6298996691409613\n",
      "Test Adj. R2 =  -0.7146075058098507\n"
     ]
    }
   ],
   "source": [
    "#for sex = 0\n",
    "male = df.query(\"sex == 0\")\n",
    "\n",
    "X = male['F']\n",
    "y = male['height']\n",
    "\n",
    "X_train, X_test, y_train, y_test = tts(X, y, test_size=0.20, random_state=42)\n",
    "sample_size = len(X_train)\n",
    "independent_variables = 1\n",
    "#training the model\n",
    "model = linear_model.LinearRegression(normalize=True)\n",
    "model.fit(X_train.values.reshape(-1,1), y_train.values.reshape(-1,1))\n",
    "fit = model.predict(X_train.values.reshape(-1,1))\n",
    "print(model.coef_,model.intercept_)\n",
    "\n",
    "#plt.scatter(X.values.reshape(-1,1), y.values.reshape(-1,1))\n",
    "#plt.plot(X.values.reshape(-1,1), fit, c='r')\n",
    "#plt.show()\n",
    "r2 = sklearn.metrics.r2_score(y_train.values.reshape(-1,1), fit)\n",
    "r2 = adjusted_r2(r2,sample_size,independent_variables)\n",
    "print(\"Train Adj. R2 = \",r2)\n",
    "\n",
    "#Test model\n",
    "fit = model.predict(X_test.values.reshape(-1,1))\n",
    "r2 = sklearn.metrics.r2_score(y_test.values.reshape(-1,1), fit)\n",
    "r2 = adjusted_r2(r2,sample_size,independent_variables)\n",
    "print(\"Test Adj. R2 = \",r2)"
   ]
  },
  {
   "cell_type": "code",
   "execution_count": 24,
   "metadata": {},
   "outputs": [
    {
     "name": "stdout",
     "output_type": "stream",
     "text": [
      "[[3.62579578]] [71.58049344]\n",
      "Train Adj. R2 =  0.5196733693143429\n",
      "Test Adj. R2 =  0.7514437906701195\n"
     ]
    }
   ],
   "source": [
    "#for sex = 1\n",
    "male = df.query(\"sex == 1\")\n",
    "\n",
    "X = male['F']\n",
    "y = male['height']\n",
    "\n",
    "X_train, X_test, y_train, y_test = tts(X, y, test_size=0.20, random_state=42)\n",
    "sample_size = len(X_train)\n",
    "independent_variables = 1\n",
    "#training the model\n",
    "model = linear_model.LinearRegression(normalize=True)\n",
    "model.fit(X_train.values.reshape(-1,1), y_train.values.reshape(-1,1))\n",
    "fit = model.predict(X_train.values.reshape(-1,1))\n",
    "print(model.coef_,model.intercept_)\n",
    "\n",
    "#plt.scatter(X.values.reshape(-1,1), y.values.reshape(-1,1))\n",
    "#plt.plot(X.values.reshape(-1,1), fit, c='r')\n",
    "#plt.show()\n",
    "r2 = sklearn.metrics.r2_score(y_train.values.reshape(-1,1), fit)\n",
    "r2 = adjusted_r2(r2,sample_size,independent_variables)\n",
    "print(\"Train Adj. R2 = \",r2)\n",
    "\n",
    "#Test model\n",
    "fit = model.predict(X_test.values.reshape(-1,1))\n",
    "r2 = sklearn.metrics.r2_score(y_test.values.reshape(-1,1), fit)\n",
    "r2 = adjusted_r2(r2,sample_size,independent_variables)\n",
    "print(\"Test Adj. R2 = \",r2)"
   ]
  },
  {
   "cell_type": "code",
   "execution_count": 25,
   "metadata": {},
   "outputs": [
    {
     "name": "stdout",
     "output_type": "stream",
     "text": [
      "[[4.23879053]] [49.37159189]\n",
      "Train Adj. R2 =  0.7983437700633085\n",
      "Test Adj. R2 =  0.4499210156356249\n"
     ]
    }
   ],
   "source": [
    "#for sex = 0\n",
    "male = df.query(\"sex == 0\")\n",
    "\n",
    "X = male['FA']\n",
    "y = male['height']\n",
    "\n",
    "X_train, X_test, y_train, y_test = tts(X, y, test_size=0.20, random_state=42)\n",
    "sample_size = len(X_train)\n",
    "independent_variables = 1\n",
    "#training the model\n",
    "model = linear_model.LinearRegression(normalize=True)\n",
    "model.fit(X_train.values.reshape(-1,1), y_train.values.reshape(-1,1))\n",
    "fit = model.predict(X_train.values.reshape(-1,1))\n",
    "print(model.coef_,model.intercept_)\n",
    "\n",
    "#plt.scatter(X.values.reshape(-1,1), y.values.reshape(-1,1))\n",
    "#plt.plot(X.values.reshape(-1,1), fit, c='r')\n",
    "#plt.show()\n",
    "r2 = sklearn.metrics.r2_score(y_train.values.reshape(-1,1), fit)\n",
    "r2 = adjusted_r2(r2,sample_size,independent_variables)\n",
    "print(\"Train Adj. R2 = \",r2)\n",
    "\n",
    "#Test model\n",
    "fit = model.predict(X_test.values.reshape(-1,1))\n",
    "r2 = sklearn.metrics.r2_score(y_test.values.reshape(-1,1), fit)\n",
    "r2 = adjusted_r2(r2,sample_size,independent_variables)\n",
    "print(\"Test Adj. R2 = \",r2)"
   ]
  },
  {
   "cell_type": "code",
   "execution_count": 26,
   "metadata": {},
   "outputs": [
    {
     "name": "stdout",
     "output_type": "stream",
     "text": [
      "[[3.14713159]] [74.97685944]\n",
      "Train Adj. R2 =  0.5363357311897914\n",
      "Test Adj. R2 =  0.7153697826611611\n"
     ]
    }
   ],
   "source": [
    "#for sex = 1\n",
    "male = df.query(\"sex == 1\")\n",
    "\n",
    "X = male['FA']\n",
    "y = male['height']\n",
    "\n",
    "X_train, X_test, y_train, y_test = tts(X, y, test_size=0.20, random_state=42)\n",
    "sample_size = len(X_train)\n",
    "independent_variables = 1\n",
    "#training the model\n",
    "model = linear_model.LinearRegression(normalize=True)\n",
    "model.fit(X_train.values.reshape(-1,1), y_train.values.reshape(-1,1))\n",
    "fit = model.predict(X_train.values.reshape(-1,1))\n",
    "print(model.coef_,model.intercept_)\n",
    "\n",
    "#plt.scatter(X.values.reshape(-1,1), y.values.reshape(-1,1))\n",
    "#plt.plot(X.values.reshape(-1,1), fit, c='r')\n",
    "#plt.show()\n",
    "r2 = sklearn.metrics.r2_score(y_train.values.reshape(-1,1), fit)\n",
    "r2 = adjusted_r2(r2,sample_size,independent_variables)\n",
    "print(\"Train Adj. R2 = \",r2)\n",
    "\n",
    "#Test model\n",
    "fit = model.predict(X_test.values.reshape(-1,1))\n",
    "r2 = sklearn.metrics.r2_score(y_test.values.reshape(-1,1), fit)\n",
    "r2 = adjusted_r2(r2,sample_size,independent_variables)\n",
    "print(\"Test Adj. R2 = \",r2)"
   ]
  }
 ],
 "metadata": {
  "interpreter": {
   "hash": "bfe903405850b67b66c9b68efeec3cc7493b96aba9e6a9e21761fd8e72a4c12c"
  },
  "kernelspec": {
   "display_name": "Python 3.8.5 64-bit ('base': conda)",
   "name": "python3"
  },
  "language_info": {
   "codemirror_mode": {
    "name": "ipython",
    "version": 3
   },
   "file_extension": ".py",
   "mimetype": "text/x-python",
   "name": "python",
   "nbconvert_exporter": "python",
   "pygments_lexer": "ipython3",
   "version": "3.8.5"
  }
 },
 "nbformat": 4,
 "nbformat_minor": 4
}
