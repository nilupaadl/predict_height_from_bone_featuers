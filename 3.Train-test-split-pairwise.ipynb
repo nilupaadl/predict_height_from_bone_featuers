{
 "cells": [
  {
   "cell_type": "code",
   "execution_count": 1,
   "metadata": {},
   "outputs": [
    {
     "data": {
      "text/html": [
       "<div>\n",
       "<style scoped>\n",
       "    .dataframe tbody tr th:only-of-type {\n",
       "        vertical-align: middle;\n",
       "    }\n",
       "\n",
       "    .dataframe tbody tr th {\n",
       "        vertical-align: top;\n",
       "    }\n",
       "\n",
       "    .dataframe thead th {\n",
       "        text-align: right;\n",
       "    }\n",
       "</style>\n",
       "<table border=\"1\" class=\"dataframe\">\n",
       "  <thead>\n",
       "    <tr style=\"text-align: right;\">\n",
       "      <th></th>\n",
       "      <th>sex</th>\n",
       "      <th>height</th>\n",
       "      <th>FA</th>\n",
       "      <th>P</th>\n",
       "      <th>F</th>\n",
       "      <th>age</th>\n",
       "      <th>district</th>\n",
       "      <th>race</th>\n",
       "    </tr>\n",
       "  </thead>\n",
       "  <tbody>\n",
       "    <tr>\n",
       "      <th>0</th>\n",
       "      <td>0</td>\n",
       "      <td>174.5</td>\n",
       "      <td>28.9</td>\n",
       "      <td>19.3</td>\n",
       "      <td>26.4</td>\n",
       "      <td>21</td>\n",
       "      <td>colombo</td>\n",
       "      <td>1</td>\n",
       "    </tr>\n",
       "    <tr>\n",
       "      <th>1</th>\n",
       "      <td>0</td>\n",
       "      <td>170.1</td>\n",
       "      <td>28.8</td>\n",
       "      <td>17.8</td>\n",
       "      <td>24.3</td>\n",
       "      <td>20</td>\n",
       "      <td>kurunagala</td>\n",
       "      <td>1</td>\n",
       "    </tr>\n",
       "    <tr>\n",
       "      <th>2</th>\n",
       "      <td>0</td>\n",
       "      <td>166.6</td>\n",
       "      <td>28.8</td>\n",
       "      <td>18.1</td>\n",
       "      <td>25.1</td>\n",
       "      <td>21</td>\n",
       "      <td>rathnapura</td>\n",
       "      <td>1</td>\n",
       "    </tr>\n",
       "    <tr>\n",
       "      <th>3</th>\n",
       "      <td>0</td>\n",
       "      <td>165.5</td>\n",
       "      <td>28.5</td>\n",
       "      <td>19.2</td>\n",
       "      <td>25.7</td>\n",
       "      <td>21</td>\n",
       "      <td>colombo</td>\n",
       "      <td>1</td>\n",
       "    </tr>\n",
       "    <tr>\n",
       "      <th>4</th>\n",
       "      <td>0</td>\n",
       "      <td>177.0</td>\n",
       "      <td>30.0</td>\n",
       "      <td>19.8</td>\n",
       "      <td>27.0</td>\n",
       "      <td>20</td>\n",
       "      <td>galle</td>\n",
       "      <td>1</td>\n",
       "    </tr>\n",
       "  </tbody>\n",
       "</table>\n",
       "</div>"
      ],
      "text/plain": [
       "   sex  height    FA     P     F  age    district  race\n",
       "0    0   174.5  28.9  19.3  26.4   21     colombo     1\n",
       "1    0   170.1  28.8  17.8  24.3   20  kurunagala     1\n",
       "2    0   166.6  28.8  18.1  25.1   21  rathnapura     1\n",
       "3    0   165.5  28.5  19.2  25.7   21     colombo     1\n",
       "4    0   177.0  30.0  19.8  27.0   20       galle     1"
      ]
     },
     "execution_count": 1,
     "metadata": {},
     "output_type": "execute_result"
    }
   ],
   "source": [
    "import numpy as np\n",
    "from pylab import *\n",
    "import random\n",
    "import sklearn\n",
    "import matplotlib.pyplot as plt\n",
    "from sklearn.model_selection import train_test_split as tts\n",
    "from sklearn import preprocessing as pr\n",
    "from scipy import stats as st\n",
    "import matplotlib.pyplot as plt\n",
    "import pandas as pd\n",
    "from sklearn import linear_model\n",
    "from sklearn.model_selection import KFold\n",
    "from sklearn.model_selection import cross_val_score\n",
    "\n",
    "def adjusted_r2(R2,sample_size,independent_variables):\n",
    "    n = sample_size\n",
    "    p = independent_variables\n",
    "    return (1-(1-R2)*(n-1)/(n-p-1))\n",
    "\n",
    "data = pd.read_csv('data.csv')\n",
    "data.head()"
   ]
  },
  {
   "cell_type": "code",
   "execution_count": 2,
   "metadata": {},
   "outputs": [],
   "source": [
    "data = data[(data['race']==1)&(data['F']<70)]\n",
    "df = data[['F','FA','P','sex','height']]"
   ]
  },
  {
   "cell_type": "code",
   "execution_count": 3,
   "metadata": {},
   "outputs": [
    {
     "data": {
      "text/html": [
       "<div>\n",
       "<style scoped>\n",
       "    .dataframe tbody tr th:only-of-type {\n",
       "        vertical-align: middle;\n",
       "    }\n",
       "\n",
       "    .dataframe tbody tr th {\n",
       "        vertical-align: top;\n",
       "    }\n",
       "\n",
       "    .dataframe thead th {\n",
       "        text-align: right;\n",
       "    }\n",
       "</style>\n",
       "<table border=\"1\" class=\"dataframe\">\n",
       "  <thead>\n",
       "    <tr style=\"text-align: right;\">\n",
       "      <th></th>\n",
       "      <th>F</th>\n",
       "      <th>FA</th>\n",
       "      <th>P</th>\n",
       "      <th>sex</th>\n",
       "      <th>height</th>\n",
       "    </tr>\n",
       "  </thead>\n",
       "  <tbody>\n",
       "    <tr>\n",
       "      <th>0</th>\n",
       "      <td>26.4</td>\n",
       "      <td>28.9</td>\n",
       "      <td>19.3</td>\n",
       "      <td>0</td>\n",
       "      <td>174.5</td>\n",
       "    </tr>\n",
       "    <tr>\n",
       "      <th>1</th>\n",
       "      <td>24.3</td>\n",
       "      <td>28.8</td>\n",
       "      <td>17.8</td>\n",
       "      <td>0</td>\n",
       "      <td>170.1</td>\n",
       "    </tr>\n",
       "    <tr>\n",
       "      <th>2</th>\n",
       "      <td>25.1</td>\n",
       "      <td>28.8</td>\n",
       "      <td>18.1</td>\n",
       "      <td>0</td>\n",
       "      <td>166.6</td>\n",
       "    </tr>\n",
       "    <tr>\n",
       "      <th>3</th>\n",
       "      <td>25.7</td>\n",
       "      <td>28.5</td>\n",
       "      <td>19.2</td>\n",
       "      <td>0</td>\n",
       "      <td>165.5</td>\n",
       "    </tr>\n",
       "    <tr>\n",
       "      <th>4</th>\n",
       "      <td>27.0</td>\n",
       "      <td>30.0</td>\n",
       "      <td>19.8</td>\n",
       "      <td>0</td>\n",
       "      <td>177.0</td>\n",
       "    </tr>\n",
       "  </tbody>\n",
       "</table>\n",
       "</div>"
      ],
      "text/plain": [
       "      F    FA     P  sex  height\n",
       "0  26.4  28.9  19.3    0   174.5\n",
       "1  24.3  28.8  17.8    0   170.1\n",
       "2  25.1  28.8  18.1    0   166.6\n",
       "3  25.7  28.5  19.2    0   165.5\n",
       "4  27.0  30.0  19.8    0   177.0"
      ]
     },
     "execution_count": 3,
     "metadata": {},
     "output_type": "execute_result"
    }
   ],
   "source": [
    "df.head()"
   ]
  },
  {
   "cell_type": "code",
   "execution_count": 4,
   "metadata": {},
   "outputs": [
    {
     "name": "stdout",
     "output_type": "stream",
     "text": [
      "[[ 4.77441787 -4.96993196]] [80.69228876]\n",
      "Train Adj. R2 =  0.7372883556727376\n",
      "Test Adj. R2 =  0.8106873125307333\n"
     ]
    }
   ],
   "source": [
    "X = df[['P','sex']].values.reshape(-1,2)\n",
    "y = df['height'].values.reshape(-1,1)\n",
    "\n",
    "X_train, X_test, y_train, y_test = tts(X, y, test_size=0.20, random_state=42)\n",
    "sample_size = len(X_train)\n",
    "independent_variables = 1\n",
    "#training the model\n",
    "model = linear_model.LinearRegression(normalize=True)\n",
    "model.fit(X_train, y_train)\n",
    "fit = model.predict(X_train)\n",
    "print(model.coef_,model.intercept_)\n",
    "\n",
    "#plt.scatter(X.values.reshape(-1,1), y.values.reshape(-1,1))\n",
    "#plt.plot(X.values.reshape(-1,1), fit, c='r')\n",
    "#plt.show()\n",
    "r2 = sklearn.metrics.r2_score(y_train, fit)\n",
    "r2 = adjusted_r2(r2,sample_size,independent_variables)\n",
    "print(\"Train Adj. R2 = \",r2)\n",
    "\n",
    "#Test model\n",
    "fit = model.predict(X_test)\n",
    "r2 = sklearn.metrics.r2_score(y_test, fit)\n",
    "r2 = adjusted_r2(r2,sample_size,independent_variables)\n",
    "print(\"Test Adj. R2 = \",r2)"
   ]
  },
  {
   "cell_type": "code",
   "execution_count": 5,
   "metadata": {},
   "outputs": [
    {
     "name": "stdout",
     "output_type": "stream",
     "text": [
      "[[ 3.47275309 -5.00889024]] [80.70553712]\n",
      "Train Adj. R2 =  0.7587096143501101\n",
      "Test Adj. R2 =  0.8484332638669886\n"
     ]
    }
   ],
   "source": [
    "X = df[['F','sex']].values.reshape(-1,2)\n",
    "y = df['height'].values.reshape(-1,1)\n",
    "\n",
    "X_train, X_test, y_train, y_test = tts(X, y, test_size=0.20, random_state=42)\n",
    "sample_size = len(X_train)\n",
    "independent_variables = 1\n",
    "#training the model\n",
    "model = linear_model.LinearRegression(normalize=True)\n",
    "model.fit(X_train, y_train)\n",
    "fit = model.predict(X_train)\n",
    "print(model.coef_,model.intercept_)\n",
    "\n",
    "#plt.scatter(X.values.reshape(-1,1), y.values.reshape(-1,1))\n",
    "#plt.plot(X.values.reshape(-1,1), fit, c='r')\n",
    "#plt.show()\n",
    "r2 = sklearn.metrics.r2_score(y_train, fit)\n",
    "r2 = adjusted_r2(r2,sample_size,independent_variables)\n",
    "print(\"Train Adj. R2 = \",r2)\n",
    "\n",
    "#Test model\n",
    "fit = model.predict(X_test)\n",
    "r2 = sklearn.metrics.r2_score(y_test, fit)\n",
    "r2 = adjusted_r2(r2,sample_size,independent_variables)\n",
    "print(\"Test Adj. R2 = \",r2)"
   ]
  },
  {
   "cell_type": "code",
   "execution_count": 6,
   "metadata": {},
   "outputs": [
    {
     "name": "stdout",
     "output_type": "stream",
     "text": [
      "[[ 3.7140036  -3.22654808]] [63.74928738]\n",
      "Train Adj. R2 =  0.8435844613068719\n",
      "Test Adj. R2 =  0.9014537090239106\n"
     ]
    }
   ],
   "source": [
    "X = df[['FA','sex']].values.reshape(-1,2)\n",
    "y = df['height'].values.reshape(-1,1)\n",
    "\n",
    "X_train, X_test, y_train, y_test = tts(X, y, test_size=0.20, random_state=42)\n",
    "sample_size = len(X_train)\n",
    "independent_variables = 1\n",
    "#training the model\n",
    "model = linear_model.LinearRegression(normalize=True)\n",
    "model.fit(X_train, y_train)\n",
    "fit = model.predict(X_train)\n",
    "print(model.coef_,model.intercept_)\n",
    "\n",
    "#plt.scatter(X.values.reshape(-1,1), y.values.reshape(-1,1))\n",
    "#plt.plot(X.values.reshape(-1,1), fit, c='r')\n",
    "#plt.show()\n",
    "r2 = sklearn.metrics.r2_score(y_train, fit)\n",
    "r2 = adjusted_r2(r2,sample_size,independent_variables)\n",
    "print(\"Train Adj. R2 = \",r2)\n",
    "\n",
    "#Test model\n",
    "fit = model.predict(X_test)\n",
    "r2 = sklearn.metrics.r2_score(y_test, fit)\n",
    "r2 = adjusted_r2(r2,sample_size,independent_variables)\n",
    "print(\"Test Adj. R2 = \",r2)"
   ]
  },
  {
   "cell_type": "code",
   "execution_count": 7,
   "metadata": {},
   "outputs": [
    {
     "name": "stdout",
     "output_type": "stream",
     "text": [
      "[[ 2.22590574  2.24958988 -4.17434463]] [70.6641665]\n",
      "Train Adj. R2 =  0.7780828940886176\n",
      "Test Adj. R2 =  0.8617637900398917\n"
     ]
    }
   ],
   "source": [
    "X = df[['P','F','sex']].values.reshape(-1,3)\n",
    "y = df['height'].values.reshape(-1,1)\n",
    "\n",
    "X_train, X_test, y_train, y_test = tts(X, y, test_size=0.20, random_state=42)\n",
    "sample_size = len(X_train)\n",
    "independent_variables = 1\n",
    "#training the model\n",
    "model = linear_model.LinearRegression(normalize=True)\n",
    "model.fit(X_train, y_train)\n",
    "fit = model.predict(X_train)\n",
    "print(model.coef_,model.intercept_)\n",
    "\n",
    "#plt.scatter(X.values.reshape(-1,1), y.values.reshape(-1,1))\n",
    "#plt.plot(X.values.reshape(-1,1), fit, c='r')\n",
    "#plt.show()\n",
    "r2 = sklearn.metrics.r2_score(y_train, fit)\n",
    "r2 = adjusted_r2(r2,sample_size,independent_variables)\n",
    "print(\"Train Adj. R2 = \",r2)\n",
    "\n",
    "#Test model\n",
    "fit = model.predict(X_test)\n",
    "r2 = sklearn.metrics.r2_score(y_test, fit)\n",
    "r2 = adjusted_r2(r2,sample_size,independent_variables)\n",
    "print(\"Test Adj. R2 = \",r2)"
   ]
  },
  {
   "cell_type": "code",
   "execution_count": 8,
   "metadata": {},
   "outputs": [
    {
     "name": "stdout",
     "output_type": "stream",
     "text": [
      "[[ 1.19596096  3.14642999 -2.78968829]] [57.73904631]\n",
      "Train Adj. R2 =  0.8504038832094913\n",
      "Test Adj. R2 =  0.9090921495715686\n"
     ]
    }
   ],
   "source": [
    "X = df[['P','FA','sex']].values.reshape(-1,3)\n",
    "y = df['height'].values.reshape(-1,1)\n",
    "\n",
    "X_train, X_test, y_train, y_test = tts(X, y, test_size=0.20, random_state=42)\n",
    "sample_size = len(X_train)\n",
    "independent_variables = 1\n",
    "#training the model\n",
    "model = linear_model.LinearRegression(normalize=True)\n",
    "model.fit(X_train, y_train)\n",
    "fit = model.predict(X_train)\n",
    "print(model.coef_,model.intercept_)\n",
    "\n",
    "#plt.scatter(X.values.reshape(-1,1), y.values.reshape(-1,1))\n",
    "#plt.plot(X.values.reshape(-1,1), fit, c='r')\n",
    "#plt.show()\n",
    "r2 = sklearn.metrics.r2_score(y_train, fit)\n",
    "r2 = adjusted_r2(r2,sample_size,independent_variables)\n",
    "print(\"Train Adj. R2 = \",r2)\n",
    "\n",
    "#Test model\n",
    "fit = model.predict(X_test)\n",
    "r2 = sklearn.metrics.r2_score(y_test, fit)\n",
    "r2 = adjusted_r2(r2,sample_size,independent_variables)\n",
    "print(\"Test Adj. R2 = \",r2)"
   ]
  },
  {
   "cell_type": "code",
   "execution_count": 9,
   "metadata": {},
   "outputs": [
    {
     "name": "stdout",
     "output_type": "stream",
     "text": [
      "[[ 1.18477785  2.91364453 -2.71069519]] [56.34097392]\n",
      "Train Adj. R2 =  0.8576594852749311\n",
      "Test Adj. R2 =  0.9209244403149642\n"
     ]
    }
   ],
   "source": [
    "X = df[['F','FA','sex']].values.reshape(-1,3)\n",
    "y = df['height'].values.reshape(-1,1)\n",
    "\n",
    "X_train, X_test, y_train, y_test = tts(X, y, test_size=0.20, random_state=42)\n",
    "sample_size = len(X_train)\n",
    "independent_variables = 1\n",
    "#training the model\n",
    "model = linear_model.LinearRegression(normalize=True)\n",
    "model.fit(X_train, y_train)\n",
    "fit = model.predict(X_train)\n",
    "print(model.coef_,model.intercept_)\n",
    "\n",
    "#plt.scatter(X.values.reshape(-1,1), y.values.reshape(-1,1))\n",
    "#plt.plot(X.values.reshape(-1,1), fit, c='r')\n",
    "#plt.show()\n",
    "r2 = sklearn.metrics.r2_score(y_train, fit)\n",
    "r2 = adjusted_r2(r2,sample_size,independent_variables)\n",
    "print(\"Train Adj. R2 = \",r2)\n",
    "\n",
    "#Test model\n",
    "fit = model.predict(X_test)\n",
    "r2 = sklearn.metrics.r2_score(y_test, fit)\n",
    "r2 = adjusted_r2(r2,sample_size,independent_variables)\n",
    "print(\"Test Adj. R2 = \",r2)"
   ]
  },
  {
   "cell_type": "code",
   "execution_count": 10,
   "metadata": {},
   "outputs": [
    {
     "name": "stdout",
     "output_type": "stream",
     "text": [
      "[[ 0.36694024  1.04657074  2.8328675  -2.63683496]] [55.36113152]\n",
      "Train Adj. R2 =  0.8581099100763118\n",
      "Test Adj. R2 =  0.9211168127687865\n"
     ]
    }
   ],
   "source": [
    "X = df[['P','F','FA','sex']].values.reshape(-1,4)\n",
    "y = df['height'].values.reshape(-1,1)\n",
    "\n",
    "X_train, X_test, y_train, y_test = tts(X, y, test_size=0.20, random_state=42)\n",
    "sample_size = len(X_train)\n",
    "independent_variables = 1\n",
    "#training the model\n",
    "model = linear_model.LinearRegression(normalize=True)\n",
    "model.fit(X_train, y_train)\n",
    "fit = model.predict(X_train)\n",
    "print(model.coef_,model.intercept_)\n",
    "\n",
    "#plt.scatter(X.values.reshape(-1,1), y.values.reshape(-1,1))\n",
    "#plt.plot(X.values.reshape(-1,1), fit, c='r')\n",
    "#plt.show()\n",
    "r2 = sklearn.metrics.r2_score(y_train, fit)\n",
    "r2 = adjusted_r2(r2,sample_size,independent_variables)\n",
    "print(\"Train Adj. R2 = \",r2)\n",
    "\n",
    "#Test model\n",
    "fit = model.predict(X_test)\n",
    "r2 = sklearn.metrics.r2_score(y_test, fit)\n",
    "r2 = adjusted_r2(r2,sample_size,independent_variables)\n",
    "print(\"Test Adj. R2 = \",r2)"
   ]
  },
  {
   "cell_type": "code",
   "execution_count": 11,
   "metadata": {},
   "outputs": [
    {
     "name": "stdout",
     "output_type": "stream",
     "text": [
      "[[-0.14782822  1.29628183  3.36656811]] [43.83681192]\n",
      "Train Adj. R2 =  0.8205693828159941\n",
      "Test Adj. R2 =  0.4497557312160094\n"
     ]
    }
   ],
   "source": [
    "#for sex = 0\n",
    "male = df.query(\"sex == 0\")\n",
    "\n",
    "X = male[['P','F','FA']].values.reshape(-1,3)\n",
    "y = male['height'].values.reshape(-1,1)\n",
    "\n",
    "X_train, X_test, y_train, y_test = tts(X, y, test_size=0.20, random_state=42)\n",
    "sample_size = len(X_train)\n",
    "independent_variables = 1\n",
    "#training the model\n",
    "model = linear_model.LinearRegression(normalize=True)\n",
    "model.fit(X_train, y_train)\n",
    "fit = model.predict(X_train)\n",
    "print(model.coef_,model.intercept_)\n",
    "\n",
    "#plt.scatter(X.values.reshape(-1,1), y.values.reshape(-1,1))\n",
    "#plt.plot(X.values.reshape(-1,1), fit, c='r')\n",
    "#plt.show()\n",
    "r2 = sklearn.metrics.r2_score(y_train, fit)\n",
    "r2 = adjusted_r2(r2,sample_size,independent_variables)\n",
    "print(\"Train Adj. R2 = \",r2)\n",
    "\n",
    "#Test model\n",
    "fit = model.predict(X_test)\n",
    "r2 = sklearn.metrics.r2_score(y_test, fit)\n",
    "r2 = adjusted_r2(r2,sample_size,independent_variables)\n",
    "print(\"Test Adj. R2 = \",r2)"
   ]
  },
  {
   "cell_type": "code",
   "execution_count": 12,
   "metadata": {},
   "outputs": [
    {
     "name": "stdout",
     "output_type": "stream",
     "text": [
      "[[0.47820068 1.6578331  1.86012163]] [61.53623327]\n",
      "Train Adj. R2 =  0.6123493270632945\n",
      "Test Adj. R2 =  0.7999271420378881\n"
     ]
    }
   ],
   "source": [
    "#for sex = 1\n",
    "male = df.query(\"sex == 1\")\n",
    "\n",
    "X = male[['P','F','FA']].values.reshape(-1,3)\n",
    "y = male['height'].values.reshape(-1,1)\n",
    "\n",
    "X_train, X_test, y_train, y_test = tts(X, y, test_size=0.20, random_state=42)\n",
    "sample_size = len(X_train)\n",
    "independent_variables = 1\n",
    "#training the model\n",
    "model = linear_model.LinearRegression(normalize=True)\n",
    "model.fit(X_train, y_train)\n",
    "fit = model.predict(X_train)\n",
    "print(model.coef_,model.intercept_)\n",
    "\n",
    "#plt.scatter(X.values.reshape(-1,1), y.values.reshape(-1,1))\n",
    "#plt.plot(X.values.reshape(-1,1), fit, c='r')\n",
    "#plt.show()\n",
    "r2 = sklearn.metrics.r2_score(y_train, fit)\n",
    "r2 = adjusted_r2(r2,sample_size,independent_variables)\n",
    "print(\"Train Adj. R2 = \",r2)\n",
    "\n",
    "#Test model\n",
    "fit = model.predict(X_test)\n",
    "r2 = sklearn.metrics.r2_score(y_test, fit)\n",
    "r2 = adjusted_r2(r2,sample_size,independent_variables)\n",
    "print(\"Test Adj. R2 = \",r2)"
   ]
  },
  {
   "cell_type": "markdown",
   "metadata": {},
   "source": [
    "### Follwoing is given by a forward selection model, but may need to consider scaling of variabels due to different units"
   ]
  },
  {
   "cell_type": "code",
   "execution_count": 13,
   "metadata": {},
   "outputs": [
    {
     "name": "stdout",
     "output_type": "stream",
     "text": [
      "[[ 1.18477785  2.91364453 -2.71069519]] [56.34097392]\n",
      "Train Adj. R2 =  0.8576594852749311\n",
      "Test Adj. R2 =  0.9209244403149642\n"
     ]
    }
   ],
   "source": [
    "X = df[['F','FA','sex']].values.reshape(-1,3)\n",
    "y = df['height'].values.reshape(-1,1)\n",
    "\n",
    "X_train, X_test, y_train, y_test = tts(X, y, test_size=0.20,random_state=42)\n",
    "sample_size = len(X_train)\n",
    "independent_variables = 1\n",
    "#training the model\n",
    "model = linear_model.LinearRegression(normalize=True)\n",
    "model.fit(X_train, y_train)\n",
    "fit = model.predict(X_train)\n",
    "print(model.coef_,model.intercept_)\n",
    "\n",
    "#plt.scatter(X.values.reshape(-1,1), y.values.reshape(-1,1))\n",
    "#plt.plot(X.values.reshape(-1,1), fit, c='r')\n",
    "#plt.show()\n",
    "r2 = sklearn.metrics.r2_score(y_train, fit)\n",
    "r2 = adjusted_r2(r2,sample_size,independent_variables)\n",
    "print(\"Train Adj. R2 = \",r2)\n",
    "\n",
    "#Test model\n",
    "fit = model.predict(X_test)\n",
    "r2 = sklearn.metrics.r2_score(y_test, fit)\n",
    "r2 = adjusted_r2(r2,sample_size,independent_variables)\n",
    "print(\"Test Adj. R2 = \",r2)"
   ]
  }
 ],
 "metadata": {
  "interpreter": {
   "hash": "bfe903405850b67b66c9b68efeec3cc7493b96aba9e6a9e21761fd8e72a4c12c"
  },
  "kernelspec": {
   "display_name": "Python 3.8.5 64-bit ('base': conda)",
   "name": "python3"
  },
  "language_info": {
   "codemirror_mode": {
    "name": "ipython",
    "version": 3
   },
   "file_extension": ".py",
   "mimetype": "text/x-python",
   "name": "python",
   "nbconvert_exporter": "python",
   "pygments_lexer": "ipython3",
   "version": "3.8.5"
  }
 },
 "nbformat": 4,
 "nbformat_minor": 4
}
